{
 "cells": [
  {
   "cell_type": "code",
   "execution_count": 4,
   "id": "1842d64c",
   "metadata": {},
   "outputs": [
    {
     "name": "stdout",
     "output_type": "stream",
     "text": [
      "No datapaths provided for .csv, will use defaults  (may break in production, should be fine in sim)\n",
      "No datapaths provided for .csv, will use defaults  (may break in production, should be fine in sim)\n",
      "No datapaths provided for .csv, will use defaults  (may break in production, should be fine in sim)\n",
      "No datapaths provided for .csv, will use defaults  (may break in production, should be fine in sim)\n"
     ]
    },
    {
     "data": {
      "text/plain": [
       "['all_asset_classes',\n",
       " 'all_instruments_in_asset_class',\n",
       " 'asset_class_for_instrument',\n",
       " 'daily_prices',\n",
       " 'data',\n",
       " 'db_futures_adjusted_prices_data',\n",
       " 'db_futures_instrument_data',\n",
       " 'db_futures_multiple_prices_data',\n",
       " 'db_fx_prices_data',\n",
       " 'get_backadjusted_futures_price',\n",
       " 'get_current_and_forward_price_data',\n",
       " 'get_fx_for_instrument',\n",
       " 'get_instrument_asset_classes',\n",
       " 'get_instrument_currency',\n",
       " 'get_instrument_list',\n",
       " 'get_instrument_raw_carry_data',\n",
       " 'get_multiple_prices',\n",
       " 'get_multiple_prices_from_start_date',\n",
       " 'get_raw_cost_data',\n",
       " 'get_raw_price',\n",
       " 'get_raw_price_from_start_date',\n",
       " 'get_value_of_block_price_move',\n",
       " 'keys',\n",
       " 'methods',\n",
       " 'start_date_for_data',\n",
       " 'system_init']"
      ]
     },
     "execution_count": 4,
     "metadata": {},
     "output_type": "execute_result"
    }
   ],
   "source": [
    "from sysdata.sim.csv_futures_sim_data import csvFuturesSimData\n",
    "\n",
    "data=csvFuturesSimData()\n",
    "\n",
    "data.methods()"
   ]
  },
  {
   "cell_type": "code",
   "execution_count": null,
   "id": "dc9a5187",
   "metadata": {},
   "outputs": [],
   "source": []
  }
 ],
 "metadata": {
  "kernelspec": {
   "display_name": "pyst",
   "language": "python",
   "name": "pyst"
  },
  "language_info": {
   "codemirror_mode": {
    "name": "ipython",
    "version": 3
   },
   "file_extension": ".py",
   "mimetype": "text/x-python",
   "name": "python",
   "nbconvert_exporter": "python",
   "pygments_lexer": "ipython3",
   "version": "3.8.10"
  }
 },
 "nbformat": 4,
 "nbformat_minor": 5
}
