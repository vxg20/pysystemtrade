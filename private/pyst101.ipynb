{
 "cells": [
  {
   "cell_type": "code",
   "execution_count": 1,
   "id": "a3453a5f",
   "metadata": {},
   "outputs": [
    {
     "name": "stdout",
     "output_type": "stream",
     "text": [
      "Private configuration private.private_config.yaml does not exist; no problem if running in sim mode\n",
      "No datapaths provided for .csv, will use defaults  (may break in production, should be fine in sim)\n",
      "No datapaths provided for .csv, will use defaults  (may break in production, should be fine in sim)\n",
      "No datapaths provided for .csv, will use defaults  (may break in production, should be fine in sim)\n",
      "No datapaths provided for .csv, will use defaults  (may break in production, should be fine in sim)\n"
     ]
    },
    {
     "data": {
      "text/plain": [
       "csvFuturesSimData object with 46 instruments"
      ]
     },
     "execution_count": 1,
     "metadata": {},
     "output_type": "execute_result"
    }
   ],
   "source": [
    "from sysdata.sim.csv_futures_sim_data import csvFuturesSimData\n",
    "data = csvFuturesSimData()\n",
    "data"
   ]
  },
  {
   "cell_type": "code",
   "execution_count": 2,
   "id": "64ba8ce4",
   "metadata": {},
   "outputs": [
    {
     "data": {
      "text/plain": [
       "['AEX',\n",
       " 'AUD',\n",
       " 'BITCOIN',\n",
       " 'BOBL',\n",
       " 'BTP',\n",
       " 'BUND',\n",
       " 'CAC',\n",
       " 'COPPER',\n",
       " 'CORN',\n",
       " 'CRUDE_W',\n",
       " 'CRUDE_W_mini',\n",
       " 'EDOLLAR',\n",
       " 'EUR',\n",
       " 'EUROSTX',\n",
       " 'GAS_US',\n",
       " 'GAS_US_mini',\n",
       " 'GBP',\n",
       " 'GOLD',\n",
       " 'GOLD_micro',\n",
       " 'JPY',\n",
       " 'KOSPI',\n",
       " 'KOSPI_mini',\n",
       " 'KR10',\n",
       " 'KR3',\n",
       " 'LEANHOG',\n",
       " 'LIVECOW',\n",
       " 'MXP',\n",
       " 'NASDAQ',\n",
       " 'NASDAQ_micro',\n",
       " 'NZD',\n",
       " 'OAT',\n",
       " 'PALLAD',\n",
       " 'PLAT',\n",
       " 'SHATZ',\n",
       " 'SMI',\n",
       " 'SOYBEAN',\n",
       " 'SP500',\n",
       " 'SP500_micro',\n",
       " 'US-REALESTATE',\n",
       " 'US10',\n",
       " 'US2',\n",
       " 'US20',\n",
       " 'US5',\n",
       " 'V2X',\n",
       " 'VIX',\n",
       " 'WHEAT']"
      ]
     },
     "execution_count": 2,
     "metadata": {},
     "output_type": "execute_result"
    }
   ],
   "source": [
    "data.get_instrument_list()"
   ]
  },
  {
   "cell_type": "code",
   "execution_count": 3,
   "id": "850524d2",
   "metadata": {},
   "outputs": [
    {
     "data": {
      "text/plain": [
       "index\n",
       "2021-03-08 16:00:00    98.865\n",
       "2021-03-08 17:00:00    98.860\n",
       "2021-03-08 18:00:00    98.865\n",
       "2021-03-08 19:00:00    98.865\n",
       "2021-03-08 20:00:00    98.860\n",
       "Name: price, dtype: float64"
      ]
     },
     "execution_count": 3,
     "metadata": {},
     "output_type": "execute_result"
    }
   ],
   "source": [
    "data.get_raw_price('EDOLLAR').tail(5)"
   ]
  },
  {
   "cell_type": "code",
   "execution_count": 4,
   "id": "df0f8ca3",
   "metadata": {},
   "outputs": [
    {
     "data": {
      "text/html": [
       "<div>\n",
       "<style scoped>\n",
       "    .dataframe tbody tr th:only-of-type {\n",
       "        vertical-align: middle;\n",
       "    }\n",
       "\n",
       "    .dataframe tbody tr th {\n",
       "        vertical-align: top;\n",
       "    }\n",
       "\n",
       "    .dataframe thead th {\n",
       "        text-align: right;\n",
       "    }\n",
       "</style>\n",
       "<table border=\"1\" class=\"dataframe\">\n",
       "  <thead>\n",
       "    <tr style=\"text-align: right;\">\n",
       "      <th></th>\n",
       "      <th>PRICE</th>\n",
       "      <th>CARRY</th>\n",
       "      <th>PRICE_CONTRACT</th>\n",
       "      <th>CARRY_CONTRACT</th>\n",
       "    </tr>\n",
       "    <tr>\n",
       "      <th>index</th>\n",
       "      <th></th>\n",
       "      <th></th>\n",
       "      <th></th>\n",
       "      <th></th>\n",
       "    </tr>\n",
       "  </thead>\n",
       "  <tbody>\n",
       "    <tr>\n",
       "      <th>2021-03-08 15:00:00</th>\n",
       "      <td>98.865</td>\n",
       "      <td>99.015</td>\n",
       "      <td>20231200</td>\n",
       "      <td>20230900</td>\n",
       "    </tr>\n",
       "    <tr>\n",
       "      <th>2021-03-08 16:00:00</th>\n",
       "      <td>98.865</td>\n",
       "      <td>99.020</td>\n",
       "      <td>20231200</td>\n",
       "      <td>20230900</td>\n",
       "    </tr>\n",
       "    <tr>\n",
       "      <th>2021-03-08 17:00:00</th>\n",
       "      <td>98.860</td>\n",
       "      <td>99.015</td>\n",
       "      <td>20231200</td>\n",
       "      <td>20230900</td>\n",
       "    </tr>\n",
       "    <tr>\n",
       "      <th>2021-03-08 18:00:00</th>\n",
       "      <td>98.865</td>\n",
       "      <td>99.020</td>\n",
       "      <td>20231200</td>\n",
       "      <td>20230900</td>\n",
       "    </tr>\n",
       "    <tr>\n",
       "      <th>2021-03-08 19:00:00</th>\n",
       "      <td>98.865</td>\n",
       "      <td>99.015</td>\n",
       "      <td>20231200</td>\n",
       "      <td>20230900</td>\n",
       "    </tr>\n",
       "    <tr>\n",
       "      <th>2021-03-08 20:00:00</th>\n",
       "      <td>98.860</td>\n",
       "      <td>99.010</td>\n",
       "      <td>20231200</td>\n",
       "      <td>20230900</td>\n",
       "    </tr>\n",
       "  </tbody>\n",
       "</table>\n",
       "</div>"
      ],
      "text/plain": [
       "                      PRICE   CARRY PRICE_CONTRACT CARRY_CONTRACT\n",
       "index                                                            \n",
       "2021-03-08 15:00:00  98.865  99.015       20231200       20230900\n",
       "2021-03-08 16:00:00  98.865  99.020       20231200       20230900\n",
       "2021-03-08 17:00:00  98.860  99.015       20231200       20230900\n",
       "2021-03-08 18:00:00  98.865  99.020       20231200       20230900\n",
       "2021-03-08 19:00:00  98.865  99.015       20231200       20230900\n",
       "2021-03-08 20:00:00  98.860  99.010       20231200       20230900"
      ]
     },
     "execution_count": 4,
     "metadata": {},
     "output_type": "execute_result"
    }
   ],
   "source": [
    "data.get_instrument_raw_carry_data('EDOLLAR').tail(6)"
   ]
  },
  {
   "cell_type": "code",
   "execution_count": 5,
   "id": "3b7f7044",
   "metadata": {},
   "outputs": [],
   "source": [
    "import pandas as pd\n",
    "from sysquant.estimators.vol import robust_vol_calc\n",
    "\n",
    "def calc_ewmac_forecast(price, Lfast, Lslow=None):\n",
    "    price = price.resample(\"1B\").last()\n",
    "    if Lslow is None:\n",
    "        Lslow = 4 * Lfast\n",
    "        \n",
    "    fast_ewma = price.ewm(span=Lfast).mean()\n",
    "    slow_ewma = price.ewm(span=Lslow).mean()\n",
    "    raw_ewmac = fast_ewma - slow_ewma\n",
    "    \n",
    "    vol = robust_vol_calc(price.diff())\n",
    "    \n",
    "    return raw_ewmac/vol"
   ]
  },
  {
   "cell_type": "code",
   "execution_count": 6,
   "id": "91f45c92",
   "metadata": {},
   "outputs": [
    {
     "data": {
      "image/png": "[encoded data removed]",
      "text/plain": [
       "<Figure size 432x288 with 1 Axes>"
      ]
     },
     "metadata": {
      "needs_background": "light"
     },
     "output_type": "display_data"
    }
   ],
   "source": [
    "instrument_code = 'EDOLLAR'\n",
    "price = data.daily_prices(instrument_code)\n",
    "ewmac=calc_ewmac_forecast(price, 32, 128)\n",
    "ewmac.tail(5)\n",
    "\n",
    "from matplotlib.pyplot import show\n",
    "ewmac.plot()\n",
    "show()"
   ]
  },
  {
   "cell_type": "code",
   "execution_count": 7,
   "id": "d4a12ed5",
   "metadata": {},
   "outputs": [
    {
     "data": {
      "text/plain": [
       "[[('min', '-5.81'),\n",
       "  ('max', '5.141'),\n",
       "  ('median', '0'),\n",
       "  ('mean', '0.01502'),\n",
       "  ('std', '0.5036'),\n",
       "  ('skew', '-0.1824'),\n",
       "  ('ann_mean', '3.846'),\n",
       "  ('ann_std', '8.057'),\n",
       "  ('sharpe', '0.4773'),\n",
       "  ('sortino', '0.5659'),\n",
       "  ('avg_drawdown', '-11.37'),\n",
       "  ('time_in_drawdown', '0.9738'),\n",
       "  ('calmar', '0.1078'),\n",
       "  ('avg_return_to_drawdown', '0.3382'),\n",
       "  ('avg_loss', '-0.3198'),\n",
       "  ('avg_gain', '0.33'),\n",
       "  ('gaintolossratio', '1.032'),\n",
       "  ('profitfactor', '1.107'),\n",
       "  ('hitrate', '0.5175'),\n",
       "  ('t_stat', '2.935'),\n",
       "  ('p_value', '0.003342')],\n",
       " ('You can also plot / print:',\n",
       "  ['rolling_ann_std', 'drawdown', 'curve', 'percent'])]"
      ]
     },
     "execution_count": 7,
     "metadata": {},
     "output_type": "execute_result"
    }
   ],
   "source": [
    "from systems.accounts.account_forecast import pandl_for_instrument_forecast\n",
    "account = pandl_for_instrument_forecast(forecast=ewmac, price=price)\n",
    "account.percent.stats()"
   ]
  },
  {
   "cell_type": "code",
   "execution_count": 8,
   "id": "b159dc5e",
   "metadata": {},
   "outputs": [
    {
     "data": {
      "text/plain": [
       "0.47732400695058713"
      ]
     },
     "execution_count": 8,
     "metadata": {},
     "output_type": "execute_result"
    }
   ],
   "source": [
    "account.sharpe()"
   ]
  },
  {
   "cell_type": "code",
   "execution_count": 9,
   "id": "7f0fcb63",
   "metadata": {},
   "outputs": [
    {
     "data": {
      "text/plain": [
       "<AxesSubplot:xlabel='index'>"
      ]
     },
     "execution_count": 9,
     "metadata": {},
     "output_type": "execute_result"
    },
    {
     "data": {
      "image/png": "[encoded data removed]",
      "text/plain": [
       "<Figure size 432x288 with 1 Axes>"
      ]
     },
     "metadata": {
      "needs_background": "light"
     },
     "output_type": "display_data"
    }
   ],
   "source": [
    "account.curve().plot()"
   ]
  },
  {
   "cell_type": "code",
   "execution_count": 10,
   "id": "d6d152ef",
   "metadata": {},
   "outputs": [
    {
     "data": {
      "text/plain": [
       "index\n",
       "1984-01-12         NaN\n",
       "1984-01-13         NaN\n",
       "1984-01-16         NaN\n",
       "1984-01-17         NaN\n",
       "1984-01-18         NaN\n",
       "                ...   \n",
       "2021-03-02   -0.182800\n",
       "2021-03-03    0.287928\n",
       "2021-03-04    0.240723\n",
       "2021-03-05    0.017667\n",
       "2021-03-08    0.154899\n",
       "Freq: B, Length: 9693, dtype: float64\n",
       " Unweighted account curve; use object.stats() to see methods"
      ]
     },
     "execution_count": 10,
     "metadata": {},
     "output_type": "execute_result"
    }
   ],
   "source": [
    "account.percent"
   ]
  },
  {
   "cell_type": "code",
   "execution_count": 11,
   "id": "22ad1618",
   "metadata": {},
   "outputs": [
    {
     "data": {
      "text/plain": [
       "<AxesSubplot:xlabel='index'>"
      ]
     },
     "execution_count": 11,
     "metadata": {},
     "output_type": "execute_result"
    },
    {
     "data": {
      "image/png": "[encoded data removed]",
      "text/plain": [
       "<Figure size 432x288 with 1 Axes>"
      ]
     },
     "metadata": {
      "needs_background": "light"
     },
     "output_type": "display_data"
    }
   ],
   "source": [
    "account.percent.drawdown().plot()"
   ]
  },
  {
   "cell_type": "code",
   "execution_count": 12,
   "id": "cbe32214",
   "metadata": {},
   "outputs": [
    {
     "data": {
      "text/plain": [
       "index\n",
       "1984-01-15         NaN\n",
       "1984-01-22         NaN\n",
       "1984-01-29         NaN\n",
       "1984-02-05         NaN\n",
       "1984-02-12   -0.024931\n",
       "                ...   \n",
       "2021-02-14    0.136319\n",
       "2021-02-21    0.684691\n",
       "2021-02-28    2.235996\n",
       "2021-03-07    0.268534\n",
       "2021-03-14    0.154899\n",
       "Freq: W-SUN, Length: 1940, dtype: float64\n",
       " Unweighted account curve; use object.stats() to see methods"
      ]
     },
     "execution_count": 12,
     "metadata": {},
     "output_type": "execute_result"
    }
   ],
   "source": [
    "account.weekly"
   ]
  },
  {
   "cell_type": "code",
   "execution_count": 13,
   "id": "923e4d20",
   "metadata": {},
   "outputs": [
    {
     "data": {
      "text/plain": [
       "3.841210996294233"
      ]
     },
     "execution_count": 13,
     "metadata": {},
     "output_type": "execute_result"
    }
   ],
   "source": [
    "account.gross.ann_mean()"
   ]
  },
  {
   "cell_type": "markdown",
   "id": "c23346ee",
   "metadata": {},
   "source": [
    "## A Simple System"
   ]
  },
  {
   "cell_type": "code",
   "execution_count": 14,
   "id": "861d53b8",
   "metadata": {},
   "outputs": [
    {
     "name": "stdout",
     "output_type": "stream",
     "text": [
      "No datapaths provided for .csv, will use defaults  (may break in production, should be fine in sim)\n",
      "No datapaths provided for .csv, will use defaults  (may break in production, should be fine in sim)\n",
      "No datapaths provided for .csv, will use defaults  (may break in production, should be fine in sim)\n",
      "No datapaths provided for .csv, will use defaults  (may break in production, should be fine in sim)\n"
     ]
    }
   ],
   "source": [
    "from sysdata.sim.csv_futures_sim_data import csvFuturesSimData\n",
    "data = csvFuturesSimData()\n",
    "\n",
    "from systems.provided.example.rules import ewmac_forecast_with_defaults as ewmac"
   ]
  },
  {
   "cell_type": "code",
   "execution_count": 15,
   "id": "a43f68f4",
   "metadata": {},
   "outputs": [
    {
     "data": {
      "text/plain": [
       "{'rule0': TradingRule; function: <function ewmac_forecast_with_defaults at 0x000001413B089AF0>, data: data.daily_prices (args: {}) and other_args: }"
      ]
     },
     "execution_count": 15,
     "metadata": {},
     "output_type": "execute_result"
    }
   ],
   "source": [
    "from systems.forecasting import Rules\n",
    "my_rules=Rules(ewmac)\n",
    "my_rules.trading_rules()"
   ]
  },
  {
   "cell_type": "code",
   "execution_count": 16,
   "id": "d6f56b45",
   "metadata": {},
   "outputs": [
    {
     "data": {
      "text/plain": [
       "{'ewmac': TradingRule; function: <function ewmac_forecast_with_defaults at 0x000001413B089AF0>, data: data.daily_prices (args: {}) and other_args: }"
      ]
     },
     "execution_count": 16,
     "metadata": {},
     "output_type": "execute_result"
    }
   ],
   "source": [
    "my_rules=Rules(dict(ewmac=ewmac))\n",
    "my_rules.trading_rules()"
   ]
  },
  {
   "cell_type": "code",
   "execution_count": 17,
   "id": "622843a0",
   "metadata": {},
   "outputs": [
    {
     "data": {
      "text/plain": [
       "System base_system with .config, .data, and .stages: rules"
      ]
     },
     "execution_count": 17,
     "metadata": {},
     "output_type": "execute_result"
    }
   ],
   "source": [
    "from systems.basesystem import System\n",
    "my_system = System([my_rules], data)\n",
    "my_system"
   ]
  },
  {
   "cell_type": "code",
   "execution_count": 18,
   "id": "6d6b7da4",
   "metadata": {},
   "outputs": [
    {
     "data": {
      "text/plain": [
       "index\n",
       "2021-03-02   -1.961088\n",
       "2021-03-03   -2.065046\n",
       "2021-03-04   -2.260685\n",
       "2021-03-05   -2.515280\n",
       "2021-03-08   -2.784115\n",
       "Freq: B, Name: price, dtype: float64"
      ]
     },
     "execution_count": 18,
     "metadata": {},
     "output_type": "execute_result"
    }
   ],
   "source": [
    "my_system.rules.get_raw_forecast('EDOLLAR', 'ewmac').tail(5)"
   ]
  },
  {
   "cell_type": "code",
   "execution_count": 19,
   "id": "2d5b466f",
   "metadata": {},
   "outputs": [
    {
     "data": {
      "text/plain": [
       "TradingRule; function: <function ewmac_forecast_with_defaults at 0x000001413B089AF0>, data: data.daily_prices (args: {}) and other_args: "
      ]
     },
     "execution_count": 19,
     "metadata": {},
     "output_type": "execute_result"
    }
   ],
   "source": [
    "from systems.trading_rules import TradingRule\n",
    "\n",
    "ewmac_rule = TradingRule(ewmac)\n",
    "my_rules = Rules(dict(ewmac=ewmac_rule))\n",
    "ewmac_rule"
   ]
  },
  {
   "cell_type": "code",
   "execution_count": 20,
   "id": "80f7c3db",
   "metadata": {},
   "outputs": [
    {
     "data": {
      "text/plain": [
       "{'ewmac8': TradingRule; function: <function ewmac_forecast_with_defaults at 0x000001413B089AF0>, data: data.daily_prices (args: {}) and other_args: Lfast, Lslow,\n",
       " 'ewmac32': TradingRule; function: <function ewmac_forecast_with_defaults at 0x000001413B089AF0>, data: data.daily_prices (args: {}) and other_args: Lfast, Lslow}"
      ]
     },
     "execution_count": 20,
     "metadata": {},
     "output_type": "execute_result"
    }
   ],
   "source": [
    "ewmac_8 = TradingRule((ewmac, [], dict(Lfast=8, Lslow=32)))\n",
    "ewmac_32 = TradingRule(dict(function=ewmac, other_args=dict(Lfast=32, Lslow=128)))\n",
    "my_rules = Rules(dict(ewmac8=ewmac_8, ewmac32=ewmac_32))\n",
    "my_rules.trading_rules()"
   ]
  },
  {
   "cell_type": "code",
   "execution_count": 21,
   "id": "19053c61",
   "metadata": {},
   "outputs": [
    {
     "data": {
      "text/plain": [
       "index\n",
       "2021-03-02   -1.961088\n",
       "2021-03-03   -2.065046\n",
       "2021-03-04   -2.260685\n",
       "2021-03-05   -2.515280\n",
       "2021-03-08   -2.784115\n",
       "Freq: B, Name: price, dtype: float64"
      ]
     },
     "execution_count": 21,
     "metadata": {},
     "output_type": "execute_result"
    }
   ],
   "source": [
    "my_system = System([my_rules], data)\n",
    "my_system.rules.get_raw_forecast('EDOLLAR', 'ewmac32').tail(5)"
   ]
  },
  {
   "cell_type": "code",
   "execution_count": 22,
   "id": "b93448f4",
   "metadata": {},
   "outputs": [
    {
     "data": {
      "text/plain": [
       "Config with elements: "
      ]
     },
     "execution_count": 22,
     "metadata": {},
     "output_type": "execute_result"
    }
   ],
   "source": [
    "# config object\n",
    "from sysdata.config.configdata import Config\n",
    "my_config = Config()\n",
    "my_config"
   ]
  },
  {
   "cell_type": "code",
   "execution_count": 23,
   "id": "c6b905bc",
   "metadata": {},
   "outputs": [
    {
     "name": "stdout",
     "output_type": "stream",
     "text": [
      "index\n",
      "1984-01-12         NaN\n",
      "1984-01-13         NaN\n",
      "1984-01-16         NaN\n",
      "1984-01-17         NaN\n",
      "1984-01-18         NaN\n",
      "                ...   \n",
      "2021-03-02   -2.397079\n",
      "2021-03-03   -2.437141\n",
      "2021-03-04   -2.669245\n",
      "2021-03-05   -2.898738\n",
      "2021-03-08   -3.156180\n",
      "Freq: B, Name: price, Length: 9693, dtype: float64\n"
     ]
    }
   ],
   "source": [
    "empty_rules = Rules()\n",
    "my_config.trading_rules=dict(ewmac8=ewmac_8, ewmac32=ewmac_32)\n",
    "my_system=System([empty_rules], data, my_config)\n",
    "print(my_system.rules.get_raw_forecast('EDOLLAR', 'ewmac8'))"
   ]
  },
  {
   "cell_type": "code",
   "execution_count": 24,
   "id": "90592152",
   "metadata": {},
   "outputs": [
    {
     "name": "stdout",
     "output_type": "stream",
     "text": [
      "index\n",
      "2021-03-02    2.871805\n",
      "2021-03-03    2.871788\n",
      "2021-03-04    2.871770\n",
      "2021-03-05    2.871754\n",
      "2021-03-08    2.871726\n",
      "Freq: B, dtype: float64\n"
     ]
    },
    {
     "name": "stderr",
     "output_type": "stream",
     "text": [
      "C:\\Users\\Felix.Gozali\\Anaconda3\\envs\\pyst\\lib\\site-packages\\numpy\\lib\\nanfunctions.py:1119: RuntimeWarning: All-NaN slice encountered\n",
      "  r, k = function_base._ureduce(a, func=_nanmedian, axis=axis, out=out,\n"
     ]
    }
   ],
   "source": [
    "from systems.forecast_scale_cap import ForecastScaleCap\n",
    "\n",
    "my_config.instruments=['EDOLLAR', 'US10', 'EDOLLAR', 'CORN', 'SP500_micro']\n",
    "\n",
    "my_config.use_forecast_scale_estimates=True\n",
    "\n",
    "fcs=ForecastScaleCap()\n",
    "my_system = System([fcs, my_rules], data, my_config)\n",
    "print(my_system.forecastScaleCap.get_forecast_scalar('EDOLLAR', 'ewmac32').tail(5))"
   ]
  },
  {
   "cell_type": "code",
   "execution_count": 25,
   "id": "66c62903",
   "metadata": {},
   "outputs": [
    {
     "name": "stdout",
     "output_type": "stream",
     "text": [
      "index\n",
      "1984-01-12    2.65\n",
      "1984-01-13    2.65\n",
      "1984-01-16    2.65\n",
      "1984-01-17    2.65\n",
      "1984-01-18    2.65\n",
      "              ... \n",
      "2021-03-02    2.65\n",
      "2021-03-03    2.65\n",
      "2021-03-04    2.65\n",
      "2021-03-05    2.65\n",
      "2021-03-08    2.65\n",
      "Freq: B, Length: 9693, dtype: float64\n"
     ]
    }
   ],
   "source": [
    "my_config.forecast_scalars = dict(ewmac8=5.3, ewmac32=2.65)\n",
    "\n",
    "my_config.use_forecast_scale_estimates=False\n",
    "my_system=System([fcs, empty_rules], data, my_config)\n",
    "print(my_system.forecastScaleCap.get_forecast_scalar('EDOLLAR', 'ewmac32'))"
   ]
  },
  {
   "cell_type": "code",
   "execution_count": 26,
   "id": "09a7f72d",
   "metadata": {},
   "outputs": [
    {
     "name": "stdout",
     "output_type": "stream",
     "text": [
      "WARNING: No forecast weights  - using equal weights of 0.500 over all 2 trading rules in system\n",
      "You need an accounts stage in the system to estimate forecast costs for EDOLLAR ewmac32. Using costs of zero\n",
      "You need an accounts stage in the system to estimate forecast costs for EDOLLAR ewmac8. Using costs of zero\n"
     ]
    },
    {
     "data": {
      "text/plain": [
       "index\n",
       "2021-03-02    1.0\n",
       "2021-03-03    1.0\n",
       "2021-03-04    1.0\n",
       "2021-03-05    1.0\n",
       "2021-03-08    1.0\n",
       "Freq: B, dtype: float64"
      ]
     },
     "execution_count": 26,
     "metadata": {},
     "output_type": "execute_result"
    }
   ],
   "source": [
    "from systems.forecast_combine import ForecastCombine\n",
    "\n",
    "combiner = ForecastCombine()\n",
    "my_system = System([fcs, empty_rules, combiner], data, my_config)\n",
    "my_system.combForecast.get_forecast_weights('EDOLLAR').tail(5)\n",
    "my_system.combForecast.get_forecast_diversification_multiplier('EDOLLAR').tail(5)"
   ]
  },
  {
   "cell_type": "code",
   "execution_count": 27,
   "id": "a19d1bbf",
   "metadata": {},
   "outputs": [
    {
     "name": "stdout",
     "output_type": "stream",
     "text": [
      "Calculating forecast weights for US10\n",
      "Calculating raw forecast weights for US10\n",
      "Calculating capped forecast for CORN ewmac32\n",
      "Calculating raw forecast CORN for ewmac32\n",
      "Calculating capped forecast for EDOLLAR ewmac32\n",
      "Calculating raw forecast EDOLLAR for ewmac32\n",
      "Calculating capped forecast for SP500_micro ewmac32\n",
      "Calculating raw forecast SP500_micro for ewmac32\n",
      "Calculating capped forecast for US10 ewmac32\n",
      "Calculating raw forecast US10 for ewmac32\n",
      "Calculating daily volatility for US10\n",
      "Calculating daily prices for US10\n",
      "Calculating capped forecast for CORN ewmac8\n",
      "Calculating raw forecast CORN for ewmac8\n",
      "Calculating capped forecast for EDOLLAR ewmac8\n",
      "Calculating raw forecast EDOLLAR for ewmac8\n",
      "Calculating capped forecast for SP500_micro ewmac8\n",
      "Calculating raw forecast SP500_micro for ewmac8\n",
      "Calculating capped forecast for US10 ewmac8\n",
      "Calculating raw forecast US10 for ewmac8\n",
      "Only this set of rules ['ewmac32', 'ewmac8'] is cheap enough to trade for US10\n",
      "Calculating daily volatility for CORN\n",
      "Calculating daily prices for CORN\n",
      "Only this set of rules ['ewmac32', 'ewmac8'] is cheap enough to trade for CORN\n",
      "Calculating daily volatility for EDOLLAR\n",
      "Calculating daily prices for EDOLLAR\n",
      "Only this set of rules ['ewmac32', 'ewmac8'] is cheap enough to trade for EDOLLAR\n",
      "Calculating daily volatility for SP500_micro\n",
      "Calculating daily prices for SP500_micro\n",
      "Only this set of rules ['ewmac32', 'ewmac8'] is cheap enough to trade for SP500_micro\n",
      "Calculating pandl for instrument forecast for CORN ewmac32\n",
      "Getting vol target\n",
      "Calculating pandl for instrument forecast for CORN ewmac8\n",
      "Calculating pandl for instrument forecast for EDOLLAR ewmac32\n",
      "Calculating pandl for instrument forecast for EDOLLAR ewmac8\n",
      "Calculating pandl for instrument forecast for SP500_micro ewmac32\n",
      "Calculating pandl for instrument forecast for SP500_micro ewmac8\n",
      "Calculating pandl for instrument forecast for US10 ewmac32\n",
      "Calculating pandl for instrument forecast for US10 ewmac8\n",
      "Using pooled gross returns\n",
      "Using pooled turnover cost SR for US10\n",
      "Applying cost multiplier of 2.000000\n",
      " [--------------------------------------------------------------------------------] 0.0% Optimising weights \n",
      " [=------------------------------------------------------------------------------] 2.0% Optimising weights \n",
      " [===----------------------------------------------------------------------------] 4.1% Optimising weights \n",
      " [====---------------------------------------------------------------------------] 6.1% Optimising weights \n",
      " [======-------------------------------------------------------------------------] 8.2% Optimising weights \n",
      " [========-----------------------------------------------------------------------] 10.2% Optimising weights \n",
      " [=========----------------------------------------------------------------------] 12.2% Optimising weights \n",
      " [===========--------------------------------------------------------------------] 14.3% Optimising weights \n",
      " [=============------------------------------------------------------------------] 16.3% Optimising weights \n",
      " [==============-----------------------------------------------------------------] 18.4% Optimising weights \n",
      " [================---------------------------------------------------------------] 20.4% Optimising weights \n",
      " [=================--------------------------------------------------------------] 22.4% Optimising weights \n",
      " [===================------------------------------------------------------------] 24.5% Optimising weights \n",
      " [=====================----------------------------------------------------------] 26.5% Optimising weights \n",
      " [======================---------------------------------------------------------] 28.6% Optimising weights \n",
      " [========================-------------------------------------------------------] 30.6% Optimising weights \n",
      " [==========================-----------------------------------------------------] 32.7% Optimising weights \n",
      " [===========================----------------------------------------------------] 34.7% Optimising weights \n",
      " [=============================--------------------------------------------------] 36.7% Optimising weights \n",
      " [===============================------------------------------------------------] 38.8% Optimising weights \n",
      " [================================-----------------------------------------------] 40.8% Optimising weights \n",
      " [==================================---------------------------------------------] 42.9% Optimising weights \n",
      " [===================================--------------------------------------------] 44.9% Optimising weights \n",
      " [=====================================------------------------------------------] 46.9% Optimising weights \n",
      " [=======================================----------------------------------------] 49.0% Optimising weights \n",
      " [========================================---------------------------------------] 51.0% Optimising weights \n",
      " [==========================================-------------------------------------] 53.1% Optimising weights \n",
      " [============================================-----------------------------------] 55.1% Optimising weights \n",
      " [=============================================----------------------------------] 57.1% Optimising weights \n",
      " [===============================================--------------------------------] 59.2% Optimising weights \n",
      " [================================================-------------------------------] 61.2% Optimising weights \n",
      " [==================================================-----------------------------] 63.3% Optimising weights \n",
      " [====================================================---------------------------] 65.3% Optimising weights \n",
      " [=====================================================--------------------------] 67.3% Optimising weights \n",
      " [=======================================================------------------------] 69.4% Optimising weights \n",
      " [=========================================================----------------------] 71.4% Optimising weights \n",
      " [==========================================================---------------------] 73.5% Optimising weights \n",
      " [============================================================-------------------] 75.5% Optimising weights \n",
      " [==============================================================-----------------] 77.6% Optimising weights \n",
      " [===============================================================----------------] 79.6% Optimising weights \n",
      " [=================================================================--------------] 81.6% Optimising weights \n",
      " [==================================================================-------------] 83.7% Optimising weights \n",
      " [====================================================================-----------] 85.7% Optimising weights \n",
      " [======================================================================---------] 87.8% Optimising weights \n",
      " [=======================================================================--------] 89.8% Optimising weights \n",
      " [=========================================================================------] 91.8% Optimising weights \n",
      " [===========================================================================----] 93.9% Optimising weights \n",
      " [============================================================================---] 95.9% Optimising weights \n",
      " [==============================================================================-] 98.0% Optimising weights \n",
      " [================================================================================] 100.0% Optimising weights \n",
      " [================================================================================] 100.0% Optimising weights \n",
      "\n",
      "Only this set of rules ['ewmac32', 'ewmac8'] is cheap enough to trade for US10\n",
      "             ewmac32    ewmac8\n",
      "index                         \n",
      "2021-03-02  0.780125  0.219875\n",
      "2021-03-03  0.779868  0.220132\n",
      "2021-03-04  0.779615  0.220385\n",
      "2021-03-05  0.779366  0.220634\n",
      "2021-03-08  0.779121  0.220879\n",
      "Calculating forecast div multiplier for US10\n",
      "Calculating forecast correlations over CORN, EDOLLAR, SP500_micro, US10\n",
      " [--------------------------------------------------------------------------------] 0.0% Estimating correlations \n",
      " [=------------------------------------------------------------------------------] 2.0% Estimating correlations \n"
     ]
    },
    {
     "name": "stdout",
     "output_type": "stream",
     "text": [
      " [===----------------------------------------------------------------------------] 4.1% Estimating correlations \n",
      " [====---------------------------------------------------------------------------] 6.1% Estimating correlations \n",
      " [======-------------------------------------------------------------------------] 8.2% Estimating correlations \n",
      " [========-----------------------------------------------------------------------] 10.2% Estimating correlations \n",
      " [=========----------------------------------------------------------------------] 12.2% Estimating correlations \n",
      " [===========--------------------------------------------------------------------] 14.3% Estimating correlations \n",
      " [=============------------------------------------------------------------------] 16.3% Estimating correlations \n",
      " [==============-----------------------------------------------------------------] 18.4% Estimating correlations \n",
      " [================---------------------------------------------------------------] 20.4% Estimating correlations \n",
      " [=================--------------------------------------------------------------] 22.4% Estimating correlations \n",
      " [===================------------------------------------------------------------] 24.5% Estimating correlations \n",
      " [=====================----------------------------------------------------------] 26.5% Estimating correlations \n",
      " [======================---------------------------------------------------------] 28.6% Estimating correlations \n",
      " [========================-------------------------------------------------------] 30.6% Estimating correlations \n",
      " [==========================-----------------------------------------------------] 32.7% Estimating correlations \n",
      " [===========================----------------------------------------------------] 34.7% Estimating correlations \n",
      " [=============================--------------------------------------------------] 36.7% Estimating correlations \n",
      " [===============================------------------------------------------------] 38.8% Estimating correlations \n",
      " [================================-----------------------------------------------] 40.8% Estimating correlations \n",
      " [==================================---------------------------------------------] 42.9% Estimating correlations \n",
      " [===================================--------------------------------------------] 44.9% Estimating correlations \n",
      " [=====================================------------------------------------------] 46.9% Estimating correlations \n",
      " [=======================================----------------------------------------] 49.0% Estimating correlations \n",
      " [========================================---------------------------------------] 51.0% Estimating correlations \n",
      " [==========================================-------------------------------------] 53.1% Estimating correlations \n",
      " [============================================-----------------------------------] 55.1% Estimating correlations \n",
      " [=============================================----------------------------------] 57.1% Estimating correlations \n",
      " [===============================================--------------------------------] 59.2% Estimating correlations \n",
      " [================================================-------------------------------] 61.2% Estimating correlations \n",
      " [==================================================-----------------------------] 63.3% Estimating correlations \n",
      " [====================================================---------------------------] 65.3% Estimating correlations \n",
      " [=====================================================--------------------------] 67.3% Estimating correlations \n",
      " [=======================================================------------------------] 69.4% Estimating correlations \n",
      " [=========================================================----------------------] 71.4% Estimating correlations \n",
      " [==========================================================---------------------] 73.5% Estimating correlations \n",
      " [============================================================-------------------] 75.5% Estimating correlations \n",
      " [==============================================================-----------------] 77.6% Estimating correlations \n",
      " [===============================================================----------------] 79.6% Estimating correlations \n",
      " [=================================================================--------------] 81.6% Estimating correlations \n",
      " [==================================================================-------------] 83.7% Estimating correlations \n",
      " [====================================================================-----------] 85.7% Estimating correlations \n",
      " [======================================================================---------] 87.8% Estimating correlations \n",
      " [=======================================================================--------] 89.8% Estimating correlations \n",
      " [=========================================================================------] 91.8% Estimating correlations \n",
      " [===========================================================================----] 93.9% Estimating correlations \n",
      " [============================================================================---] 95.9% Estimating correlations \n",
      " [==============================================================================-] 98.0% Estimating correlations \n",
      " [================================================================================] 100.0% Estimating correlations \n",
      " [================================================================================] 100.0% Estimating correlations \n",
      "\n",
      "2020-10-26    1.059643\n",
      "2020-10-27    1.059644\n",
      "2020-10-28    1.059645\n",
      "2020-10-29    1.059646\n",
      "2020-10-30    1.059647\n",
      "Freq: B, dtype: float64\n"
     ]
    }
   ],
   "source": [
    "from systems.rawdata import RawData\n",
    "from systems.positionsizing import PositionSizing\n",
    "from systems.accounts.accounts_stage import Account\n",
    "\n",
    "combiner = ForecastCombine()\n",
    "raw_data = RawData()\n",
    "position_size = PositionSizing()\n",
    "my_account = Account()\n",
    "\n",
    "my_config.forecast_weight_estimate = dict(method='one_period')\n",
    "my_config.use_forecast_weight_estimates = True\n",
    "my_config.use_forecast_div_mult_estimates = True\n",
    "\n",
    "combiner = ForecastCombine()\n",
    "my_system = System([my_account, fcs, my_rules, combiner, position_size, raw_data], data, my_config)\n",
    "\n",
    "my_system.set_logging_level('on')\n",
    "\n",
    "print(my_system.combForecast.get_forecast_weights('US10').tail(5))\n",
    "print(my_system.combForecast.get_forecast_diversification_multiplier('US10').tail(5))"
   ]
  },
  {
   "cell_type": "code",
   "execution_count": 28,
   "id": "0ee70dcb",
   "metadata": {},
   "outputs": [
    {
     "name": "stdout",
     "output_type": "stream",
     "text": [
      "Adding config defaults\n",
      "Calculating combined forecast for EDOLLAR\n",
      "Calculating capped forecast for EDOLLAR ewmac32\n",
      "Calculating raw forecast EDOLLAR for ewmac32\n",
      "Calculating capped forecast for EDOLLAR ewmac8\n",
      "Calculating raw forecast EDOLLAR for ewmac8\n",
      "Calculating forecast weights for EDOLLAR\n",
      "Non-nested dict of forecast weights for EDOLLAR {'ewmac8': 0.5, 'ewmac32': 0.5}: weights the same for all instruments\n",
      "You need an accounts stage in the system to estimate forecast costs for EDOLLAR ewmac32. Using costs of zero\n",
      "You need an accounts stage in the system to estimate forecast costs for EDOLLAR ewmac8. Using costs of zero\n",
      "Only this set of rules ['ewmac32', 'ewmac8'] is cheap enough to trade for EDOLLAR\n",
      "Using fixed FDM multiplier of 1.100 for EDOLLAR\n",
      "No mapping applied for EDOLLAR\n"
     ]
    },
    {
     "data": {
      "text/plain": [
       "index\n",
       "2021-03-02    -9.845772\n",
       "2021-03-03   -10.114071\n",
       "2021-03-04   -11.075796\n",
       "2021-03-05   -12.115841\n",
       "2021-03-08   -13.258112\n",
       "Freq: B, dtype: float64"
      ]
     },
     "execution_count": 28,
     "metadata": {},
     "output_type": "execute_result"
    }
   ],
   "source": [
    "my_config.forecast_weights = dict(ewmac8=0.5, ewmac32=0.5)\n",
    "my_config.forecast_div_multiplier=1.1\n",
    "my_config.use_forecast_weight_estimates = False\n",
    "my_config.use_forecast_div_mult_estimates = False\n",
    "my_system = System([fcs, empty_rules, combiner, raw_data, position_size], data, my_config)\n",
    "my_system.combForecast.get_combined_forecast('EDOLLAR').tail(5)"
   ]
  },
  {
   "cell_type": "code",
   "execution_count": 29,
   "id": "0d304651",
   "metadata": {},
   "outputs": [
    {
     "name": "stdout",
     "output_type": "stream",
     "text": [
      "Adding config defaults\n",
      "Calculating subsystem position for EDOLLAR\n",
      "Calculating volatility scalar for EDOLLAR\n",
      "Calculating instrument value vol for EDOLLAR\n",
      "Calculating instrument currency vol for EDOLLAR\n",
      "Calculating daily prices for EDOLLAR\n",
      "Calculating daily volatility for EDOLLAR\n",
      "Calculating daily prices for EDOLLAR\n",
      "Calculating combined forecast for EDOLLAR\n",
      "Calculating capped forecast for EDOLLAR ewmac32\n",
      "Calculating raw forecast EDOLLAR for ewmac32\n",
      "Calculating capped forecast for EDOLLAR ewmac8\n",
      "Calculating raw forecast EDOLLAR for ewmac8\n",
      "Calculating forecast weights for EDOLLAR\n",
      "Non-nested dict of forecast weights for EDOLLAR {'ewmac8': 0.5, 'ewmac32': 0.5}: weights the same for all instruments\n",
      "You need an accounts stage in the system to estimate forecast costs for EDOLLAR ewmac32. Using costs of zero\n",
      "You need an accounts stage in the system to estimate forecast costs for EDOLLAR ewmac8. Using costs of zero\n",
      "Only this set of rules ['ewmac32', 'ewmac8'] is cheap enough to trade for EDOLLAR\n",
      "Using fixed FDM multiplier of 1.100 for EDOLLAR\n",
      "No mapping applied for EDOLLAR\n"
     ]
    },
    {
     "data": {
      "text/plain": [
       "index\n",
       "2021-03-02    -75.203739\n",
       "2021-03-03    -75.552096\n",
       "2021-03-04    -82.792972\n",
       "2021-03-05    -92.878437\n",
       "2021-03-08   -103.706168\n",
       "Freq: B, dtype: float64"
      ]
     },
     "execution_count": 29,
     "metadata": {},
     "output_type": "execute_result"
    }
   ],
   "source": [
    "# target level of risk and position sizing\n",
    "my_config.percentage_vol_target = 25\n",
    "my_config.notional_trading_capital = 500000\n",
    "my_config.base_currency = 'GBP'\n",
    "\n",
    "my_system = System([fcs, empty_rules, combiner, position_size, raw_data], data, my_config)\n",
    "my_system.positionSize.get_subsystem_position('EDOLLAR').tail(5)"
   ]
  },
  {
   "cell_type": "code",
   "execution_count": 30,
   "id": "4609f990",
   "metadata": {},
   "outputs": [
    {
     "name": "stdout",
     "output_type": "stream",
     "text": [
      "Adding config defaults\n",
      "Calculating instrument weights\n",
      "Calculating pandl for subsystem for instrument CORN\n",
      "Calculating subsystem position for CORN\n",
      "Calculating volatility scalar for CORN\n",
      "Calculating instrument value vol for CORN\n",
      "Calculating instrument currency vol for CORN\n",
      "Calculating daily prices for CORN\n",
      "Calculating daily volatility for CORN\n",
      "Calculating daily prices for CORN\n",
      "Calculating combined forecast for CORN\n",
      "Calculating capped forecast for CORN ewmac32\n",
      "Calculating raw forecast CORN for ewmac32\n",
      "Calculating capped forecast for CORN ewmac8\n",
      "Calculating raw forecast CORN for ewmac8\n",
      "Calculating forecast weights for CORN\n",
      "Non-nested dict of forecast weights for CORN {'ewmac8': 0.5, 'ewmac32': 0.5}: weights the same for all instruments\n",
      "Calculating capped forecast for EDOLLAR ewmac32\n",
      "Calculating raw forecast EDOLLAR for ewmac32\n",
      "Calculating capped forecast for SP500_micro ewmac32\n",
      "Calculating raw forecast SP500_micro for ewmac32\n",
      "Calculating capped forecast for US10 ewmac32\n",
      "Calculating raw forecast US10 for ewmac32\n",
      "Calculating capped forecast for EDOLLAR ewmac8\n",
      "Calculating raw forecast EDOLLAR for ewmac8\n",
      "Calculating capped forecast for SP500_micro ewmac8\n",
      "Calculating raw forecast SP500_micro for ewmac8\n",
      "Calculating capped forecast for US10 ewmac8\n",
      "Calculating raw forecast US10 for ewmac8\n",
      "Only this set of rules ['ewmac32', 'ewmac8'] is cheap enough to trade for CORN\n",
      "Using fixed FDM multiplier of 1.100 for CORN\n",
      "No mapping applied for CORN\n",
      "Getting vol target\n",
      "Calculating pandl for subsystem for instrument EDOLLAR\n",
      "Calculating subsystem position for EDOLLAR\n",
      "Calculating volatility scalar for EDOLLAR\n",
      "Calculating instrument value vol for EDOLLAR\n",
      "Calculating instrument currency vol for EDOLLAR\n",
      "Calculating daily prices for EDOLLAR\n",
      "Calculating daily volatility for EDOLLAR\n",
      "Calculating daily prices for EDOLLAR\n",
      "Calculating combined forecast for EDOLLAR\n",
      "Calculating forecast weights for EDOLLAR\n",
      "Non-nested dict of forecast weights for EDOLLAR {'ewmac8': 0.5, 'ewmac32': 0.5}: weights the same for all instruments\n",
      "Only this set of rules ['ewmac32', 'ewmac8'] is cheap enough to trade for EDOLLAR\n",
      "Using fixed FDM multiplier of 1.100 for EDOLLAR\n",
      "No mapping applied for EDOLLAR\n",
      "Calculating pandl for subsystem for instrument SP500_micro\n",
      "Calculating subsystem position for SP500_micro\n",
      "Calculating volatility scalar for SP500_micro\n",
      "Calculating instrument value vol for SP500_micro\n",
      "Calculating instrument currency vol for SP500_micro\n",
      "Calculating daily prices for SP500_micro\n",
      "Calculating daily volatility for SP500_micro\n",
      "Calculating daily prices for SP500_micro\n",
      "Calculating combined forecast for SP500_micro\n",
      "Calculating forecast weights for SP500_micro\n",
      "Non-nested dict of forecast weights for SP500_micro {'ewmac8': 0.5, 'ewmac32': 0.5}: weights the same for all instruments\n",
      "Only this set of rules ['ewmac32', 'ewmac8'] is cheap enough to trade for SP500_micro\n",
      "Using fixed FDM multiplier of 1.100 for SP500_micro\n",
      "No mapping applied for SP500_micro\n",
      "Calculating pandl for subsystem for instrument US10\n",
      "Calculating subsystem position for US10\n",
      "Calculating volatility scalar for US10\n",
      "Calculating instrument value vol for US10\n",
      "Calculating instrument currency vol for US10\n",
      "Calculating daily prices for US10\n",
      "Calculating daily volatility for US10\n",
      "Calculating daily prices for US10\n",
      "Calculating combined forecast for US10\n",
      "Calculating forecast weights for US10\n",
      "Non-nested dict of forecast weights for US10 {'ewmac8': 0.5, 'ewmac32': 0.5}: weights the same for all instruments\n",
      "Only this set of rules ['ewmac32', 'ewmac8'] is cheap enough to trade for US10\n",
      "Using fixed FDM multiplier of 1.100 for US10\n",
      "No mapping applied for US10\n",
      "Calculating raw instrument weights\n",
      "Using only returns of asset for gross returns\n",
      "Using unpooled cost SR for asset\n",
      " [--------------------------------------------------------------------------------] 0.0% Optimising weights \n",
      " [================================================================================] 100.0% Optimising weights \n",
      " [================================================================================] 100.0% Optimising weights \n",
      "\n",
      "             EDOLLAR  SP500_micro      US10      CORN\n",
      "index                                                \n",
      "1972-10-18  0.000000     0.000000  0.000000  0.000000\n",
      "1972-10-19  0.000000     0.000000  0.000000  0.000000\n",
      "1972-10-20  0.000000     0.000000  0.000000  0.000000\n",
      "1972-10-23  0.000000     0.000000  0.000000  0.000000\n",
      "1972-10-24  0.000000     0.000000  0.000000  0.000000\n",
      "...              ...          ...       ...       ...\n",
      "2021-04-22  0.202146     0.306932  0.203462  0.287459\n",
      "2021-04-23  0.202146     0.306932  0.203462  0.287459\n",
      "2021-04-26  0.202146     0.306932  0.203462  0.287459\n",
      "2021-04-27  0.202146     0.306932  0.203462  0.287459\n",
      "2021-04-28  0.202146     0.306932  0.203462  0.287459\n",
      "\n",
      "[12661 rows x 4 columns]\n",
      "Calculating instrument div. multiplier\n",
      "Calculating instrument correlations\n",
      " [--------------------------------------------------------------------------------] 0.0% Estimating correlations \n",
      " [=------------------------------------------------------------------------------] 2.0% Estimating correlations \n",
      " [===----------------------------------------------------------------------------] 4.1% Estimating correlations \n",
      " [====---------------------------------------------------------------------------] 6.1% Estimating correlations \n",
      " [======-------------------------------------------------------------------------] 8.2% Estimating correlations \n",
      " [========-----------------------------------------------------------------------] 10.2% Estimating correlations \n",
      " [=========----------------------------------------------------------------------] 12.2% Estimating correlations \n",
      " [===========--------------------------------------------------------------------] 14.3% Estimating correlations \n",
      " [=============------------------------------------------------------------------] 16.3% Estimating correlations \n",
      " [==============-----------------------------------------------------------------] 18.4% Estimating correlations \n",
      " [================---------------------------------------------------------------] 20.4% Estimating correlations \n",
      " [=================--------------------------------------------------------------] 22.4% Estimating correlations \n",
      " [===================------------------------------------------------------------] 24.5% Estimating correlations \n",
      " [=====================----------------------------------------------------------] 26.5% Estimating correlations \n",
      " [======================---------------------------------------------------------] 28.6% Estimating correlations \n",
      " [========================-------------------------------------------------------] 30.6% Estimating correlations \n",
      " [==========================-----------------------------------------------------] 32.7% Estimating correlations \n",
      " [===========================----------------------------------------------------] 34.7% Estimating correlations \n",
      " [=============================--------------------------------------------------] 36.7% Estimating correlations \n",
      " [===============================------------------------------------------------] 38.8% Estimating correlations \n",
      " [================================-----------------------------------------------] 40.8% Estimating correlations \n",
      " [==================================---------------------------------------------] 42.9% Estimating correlations \n",
      " [===================================--------------------------------------------] 44.9% Estimating correlations \n",
      " [=====================================------------------------------------------] 46.9% Estimating correlations \n",
      " [=======================================----------------------------------------] 49.0% Estimating correlations \n",
      " [========================================---------------------------------------] 51.0% Estimating correlations \n",
      " [==========================================-------------------------------------] 53.1% Estimating correlations \n",
      " [============================================-----------------------------------] 55.1% Estimating correlations \n",
      " [=============================================----------------------------------] 57.1% Estimating correlations \n",
      " [===============================================--------------------------------] 59.2% Estimating correlations \n"
     ]
    },
    {
     "name": "stdout",
     "output_type": "stream",
     "text": [
      " [================================================-------------------------------] 61.2% Estimating correlations \n",
      " [==================================================-----------------------------] 63.3% Estimating correlations \n",
      " [====================================================---------------------------] 65.3% Estimating correlations \n",
      " [=====================================================--------------------------] 67.3% Estimating correlations \n",
      " [=======================================================------------------------] 69.4% Estimating correlations \n",
      " [=========================================================----------------------] 71.4% Estimating correlations \n",
      " [==========================================================---------------------] 73.5% Estimating correlations \n",
      " [============================================================-------------------] 75.5% Estimating correlations \n",
      " [==============================================================-----------------] 77.6% Estimating correlations \n",
      " [===============================================================----------------] 79.6% Estimating correlations \n",
      " [=================================================================--------------] 81.6% Estimating correlations \n",
      " [==================================================================-------------] 83.7% Estimating correlations \n",
      " [====================================================================-----------] 85.7% Estimating correlations \n",
      " [======================================================================---------] 87.8% Estimating correlations \n",
      " [=======================================================================--------] 89.8% Estimating correlations \n",
      " [=========================================================================------] 91.8% Estimating correlations \n",
      " [===========================================================================----] 93.9% Estimating correlations \n",
      " [============================================================================---] 95.9% Estimating correlations \n",
      " [==============================================================================-] 98.0% Estimating correlations \n",
      " [================================================================================] 100.0% Estimating correlations \n",
      " [================================================================================] 100.0% Estimating correlations \n",
      "\n",
      "1972-10-20         NaN\n",
      "1972-10-23    1.000000\n",
      "1972-10-24    1.000000\n",
      "1972-10-25    1.000000\n",
      "1972-10-26    1.000000\n",
      "                ...   \n",
      "2020-10-26    1.672644\n",
      "2020-10-27    1.672635\n",
      "2020-10-28    1.672627\n",
      "2020-10-29    1.672620\n",
      "2020-10-30    1.672612\n",
      "Freq: B, Length: 12531, dtype: float64\n"
     ]
    }
   ],
   "source": [
    "# combine everything into a portfolio\n",
    "from systems.portfolio import Portfolios\n",
    "portfolio = Portfolios()\n",
    "\n",
    "my_config.use_instrument_weight_estimates = True\n",
    "my_config.use_instrument_div_mult_estimates = True\n",
    "my_config.instrument_weight_estimate = dict(method='shrinkage', date_method='in_sample')\n",
    "\n",
    "my_system = System([my_account, fcs, my_rules, combiner, position_size, raw_data, portfolio], data, my_config)\n",
    "\n",
    "my_system.set_logging_level('on')\n",
    "\n",
    "print(my_system.portfolio.get_instrument_weights())\n",
    "print(my_system.portfolio.get_instrument_diversification_multiplier())"
   ]
  },
  {
   "cell_type": "code",
   "execution_count": 31,
   "id": "be9f7c69",
   "metadata": {},
   "outputs": [
    {
     "name": "stdout",
     "output_type": "stream",
     "text": [
      "Adding config defaults\n",
      "Calculating notional position for EDOLLAR\n",
      "Calculating instrument weights\n",
      "Calculating raw instrument weights\n",
      "Calculating subsystem position for CORN\n",
      "Calculating volatility scalar for CORN\n",
      "Calculating instrument value vol for CORN\n",
      "Calculating instrument currency vol for CORN\n",
      "Calculating daily prices for CORN\n",
      "Calculating daily volatility for CORN\n",
      "Calculating daily prices for CORN\n",
      "Calculating combined forecast for CORN\n",
      "Calculating capped forecast for CORN ewmac32\n",
      "Calculating raw forecast CORN for ewmac32\n",
      "Calculating capped forecast for CORN ewmac8\n",
      "Calculating raw forecast CORN for ewmac8\n",
      "Calculating forecast weights for CORN\n",
      "Non-nested dict of forecast weights for CORN {'ewmac8': 0.5, 'ewmac32': 0.5}: weights the same for all instruments\n",
      "You need an accounts stage in the system to estimate forecast costs for CORN ewmac32. Using costs of zero\n",
      "You need an accounts stage in the system to estimate forecast costs for CORN ewmac8. Using costs of zero\n",
      "Only this set of rules ['ewmac32', 'ewmac8'] is cheap enough to trade for CORN\n",
      "Using fixed FDM multiplier of 1.100 for CORN\n",
      "No mapping applied for CORN\n",
      "Calculating subsystem position for EDOLLAR\n",
      "Calculating volatility scalar for EDOLLAR\n",
      "Calculating instrument value vol for EDOLLAR\n",
      "Calculating instrument currency vol for EDOLLAR\n",
      "Calculating daily prices for EDOLLAR\n",
      "Calculating daily volatility for EDOLLAR\n",
      "Calculating daily prices for EDOLLAR\n",
      "Calculating combined forecast for EDOLLAR\n",
      "Calculating capped forecast for EDOLLAR ewmac32\n",
      "Calculating raw forecast EDOLLAR for ewmac32\n",
      "Calculating capped forecast for EDOLLAR ewmac8\n",
      "Calculating raw forecast EDOLLAR for ewmac8\n",
      "Calculating forecast weights for EDOLLAR\n",
      "Non-nested dict of forecast weights for EDOLLAR {'ewmac8': 0.5, 'ewmac32': 0.5}: weights the same for all instruments\n",
      "You need an accounts stage in the system to estimate forecast costs for EDOLLAR ewmac32. Using costs of zero\n",
      "You need an accounts stage in the system to estimate forecast costs for EDOLLAR ewmac8. Using costs of zero\n",
      "Only this set of rules ['ewmac32', 'ewmac8'] is cheap enough to trade for EDOLLAR\n",
      "Using fixed FDM multiplier of 1.100 for EDOLLAR\n",
      "No mapping applied for EDOLLAR\n",
      "Calculating subsystem position for SP500_micro\n",
      "Calculating volatility scalar for SP500_micro\n",
      "Calculating instrument value vol for SP500_micro\n",
      "Calculating instrument currency vol for SP500_micro\n",
      "Calculating daily prices for SP500_micro\n",
      "Calculating daily volatility for SP500_micro\n",
      "Calculating daily prices for SP500_micro\n",
      "Calculating combined forecast for SP500_micro\n",
      "Calculating capped forecast for SP500_micro ewmac32\n",
      "Calculating raw forecast SP500_micro for ewmac32\n",
      "Calculating capped forecast for SP500_micro ewmac8\n",
      "Calculating raw forecast SP500_micro for ewmac8\n",
      "Calculating forecast weights for SP500_micro\n",
      "Non-nested dict of forecast weights for SP500_micro {'ewmac8': 0.5, 'ewmac32': 0.5}: weights the same for all instruments\n",
      "You need an accounts stage in the system to estimate forecast costs for SP500_micro ewmac32. Using costs of zero\n",
      "You need an accounts stage in the system to estimate forecast costs for SP500_micro ewmac8. Using costs of zero\n",
      "Only this set of rules ['ewmac32', 'ewmac8'] is cheap enough to trade for SP500_micro\n",
      "Using fixed FDM multiplier of 1.100 for SP500_micro\n",
      "No mapping applied for SP500_micro\n",
      "Calculating subsystem position for US10\n",
      "Calculating volatility scalar for US10\n",
      "Calculating instrument value vol for US10\n",
      "Calculating instrument currency vol for US10\n",
      "Calculating daily prices for US10\n",
      "Calculating daily volatility for US10\n",
      "Calculating daily prices for US10\n",
      "Calculating combined forecast for US10\n",
      "Calculating capped forecast for US10 ewmac32\n",
      "Calculating raw forecast US10 for ewmac32\n",
      "Calculating capped forecast for US10 ewmac8\n",
      "Calculating raw forecast US10 for ewmac8\n",
      "Calculating forecast weights for US10\n",
      "Non-nested dict of forecast weights for US10 {'ewmac8': 0.5, 'ewmac32': 0.5}: weights the same for all instruments\n",
      "You need an accounts stage in the system to estimate forecast costs for US10 ewmac32. Using costs of zero\n",
      "You need an accounts stage in the system to estimate forecast costs for US10 ewmac8. Using costs of zero\n",
      "Only this set of rules ['ewmac32', 'ewmac8'] is cheap enough to trade for US10\n",
      "Using fixed FDM multiplier of 1.100 for US10\n",
      "No mapping applied for US10\n",
      "Using fixed diversification multiplier 1.500000\n"
     ]
    },
    {
     "data": {
      "text/plain": [
       "index\n",
       "2021-03-02   -28.201402\n",
       "2021-03-03   -28.332036\n",
       "2021-03-04   -31.047365\n",
       "2021-03-05   -34.829414\n",
       "2021-03-08   -38.889813\n",
       "Freq: B, dtype: float64"
      ]
     },
     "execution_count": 31,
     "metadata": {},
     "output_type": "execute_result"
    }
   ],
   "source": [
    "my_config.instrument_weights = dict(US10=.1, EDOLLAR=.4, CORN=.3, SP500_micro=.8)\n",
    "my_config.instrument_div_multiplier=1.5\n",
    "my_config.use_instrument_weight_estimates=False\n",
    "my_config.use_instrument_div_mult_estimates=False\n",
    "\n",
    "my_system=System([fcs, empty_rules, combiner, position_size, raw_data, portfolio], data, my_config)\n",
    "my_system.portfolio.get_notional_position('EDOLLAR').tail(5)\n"
   ]
  },
  {
   "cell_type": "code",
   "execution_count": 32,
   "id": "3b8f27b1",
   "metadata": {},
   "outputs": [
    {
     "name": "stdout",
     "output_type": "stream",
     "text": [
      "Adding config defaults\n",
      "Calculating pandl for portfolio\n",
      "Getting vol target\n",
      "Calculating pandl for instrument for CORN\n",
      "Calculating notional position for CORN\n",
      "Calculating instrument weights\n",
      "Calculating raw instrument weights\n",
      "Calculating subsystem position for CORN\n",
      "Calculating volatility scalar for CORN\n",
      "Calculating instrument value vol for CORN\n",
      "Calculating instrument currency vol for CORN\n",
      "Calculating daily prices for CORN\n",
      "Calculating daily volatility for CORN\n",
      "Calculating daily prices for CORN\n",
      "Calculating combined forecast for CORN\n",
      "Calculating capped forecast for CORN ewmac32\n",
      "Calculating raw forecast CORN for ewmac32\n",
      "Calculating capped forecast for CORN ewmac8\n",
      "Calculating raw forecast CORN for ewmac8\n",
      "Calculating forecast weights for CORN\n",
      "Non-nested dict of forecast weights for CORN {'ewmac8': 0.5, 'ewmac32': 0.5}: weights the same for all instruments\n",
      "Calculating capped forecast for EDOLLAR ewmac32\n",
      "Calculating raw forecast EDOLLAR for ewmac32\n",
      "Calculating capped forecast for SP500_micro ewmac32\n",
      "Calculating raw forecast SP500_micro for ewmac32\n",
      "Calculating capped forecast for US10 ewmac32\n",
      "Calculating raw forecast US10 for ewmac32\n",
      "Calculating capped forecast for EDOLLAR ewmac8\n",
      "Calculating raw forecast EDOLLAR for ewmac8\n",
      "Calculating capped forecast for SP500_micro ewmac8\n",
      "Calculating raw forecast SP500_micro for ewmac8\n",
      "Calculating capped forecast for US10 ewmac8\n",
      "Calculating raw forecast US10 for ewmac8\n",
      "Only this set of rules ['ewmac32', 'ewmac8'] is cheap enough to trade for CORN\n",
      "Using fixed FDM multiplier of 1.100 for CORN\n",
      "No mapping applied for CORN\n",
      "Calculating subsystem position for EDOLLAR\n",
      "Calculating volatility scalar for EDOLLAR\n",
      "Calculating instrument value vol for EDOLLAR\n",
      "Calculating instrument currency vol for EDOLLAR\n",
      "Calculating daily prices for EDOLLAR\n",
      "Calculating daily volatility for EDOLLAR\n",
      "Calculating daily prices for EDOLLAR\n",
      "Calculating combined forecast for EDOLLAR\n",
      "Calculating forecast weights for EDOLLAR\n",
      "Non-nested dict of forecast weights for EDOLLAR {'ewmac8': 0.5, 'ewmac32': 0.5}: weights the same for all instruments\n",
      "Only this set of rules ['ewmac32', 'ewmac8'] is cheap enough to trade for EDOLLAR\n",
      "Using fixed FDM multiplier of 1.100 for EDOLLAR\n",
      "No mapping applied for EDOLLAR\n",
      "Calculating subsystem position for SP500_micro\n",
      "Calculating volatility scalar for SP500_micro\n",
      "Calculating instrument value vol for SP500_micro\n",
      "Calculating instrument currency vol for SP500_micro\n",
      "Calculating daily prices for SP500_micro\n",
      "Calculating daily volatility for SP500_micro\n",
      "Calculating daily prices for SP500_micro\n",
      "Calculating combined forecast for SP500_micro\n",
      "Calculating forecast weights for SP500_micro\n",
      "Non-nested dict of forecast weights for SP500_micro {'ewmac8': 0.5, 'ewmac32': 0.5}: weights the same for all instruments\n",
      "Only this set of rules ['ewmac32', 'ewmac8'] is cheap enough to trade for SP500_micro\n",
      "Using fixed FDM multiplier of 1.100 for SP500_micro\n",
      "No mapping applied for SP500_micro\n",
      "Calculating subsystem position for US10\n",
      "Calculating volatility scalar for US10\n",
      "Calculating instrument value vol for US10\n",
      "Calculating instrument currency vol for US10\n",
      "Calculating daily prices for US10\n",
      "Calculating daily volatility for US10\n",
      "Calculating daily prices for US10\n",
      "Calculating combined forecast for US10\n",
      "Calculating forecast weights for US10\n",
      "Non-nested dict of forecast weights for US10 {'ewmac8': 0.5, 'ewmac32': 0.5}: weights the same for all instruments\n",
      "Only this set of rules ['ewmac32', 'ewmac8'] is cheap enough to trade for US10\n",
      "Using fixed FDM multiplier of 1.100 for US10\n",
      "No mapping applied for US10\n",
      "Using fixed diversification multiplier 1.500000\n",
      "Calculating buffers for CORN\n",
      "Calculating position method buffer for CORN\n",
      "Calculating buffered positions\n",
      "Calculating pandl for instrument for CORN\n",
      "Calculating pandl for instrument for EDOLLAR\n",
      "Calculating notional position for EDOLLAR\n",
      "Calculating buffers for EDOLLAR\n",
      "Calculating position method buffer for EDOLLAR\n",
      "Calculating buffered positions\n",
      "Calculating pandl for instrument for EDOLLAR\n",
      "Calculating pandl for instrument for SP500_micro\n",
      "Calculating notional position for SP500_micro\n",
      "Calculating buffers for SP500_micro\n",
      "Calculating position method buffer for SP500_micro\n",
      "Calculating buffered positions\n",
      "Calculating pandl for instrument for SP500_micro\n",
      "Calculating pandl for instrument for US10\n",
      "Calculating notional position for US10\n",
      "Calculating buffers for US10\n",
      "Calculating position method buffer for US10\n",
      "Calculating buffered positions\n",
      "Calculating pandl for instrument for US10\n"
     ]
    },
    {
     "data": {
      "text/plain": [
       "[[('min', '-19.1'),\n",
       "  ('max', '14.8'),\n",
       "  ('median', '0'),\n",
       "  ('mean', '0.02932'),\n",
       "  ('std', '1.366'),\n",
       "  ('skew', '-0.6648'),\n",
       "  ('ann_mean', '7.505'),\n",
       "  ('ann_std', '21.85'),\n",
       "  ('sharpe', '0.3435'),\n",
       "  ('sortino', '0.3368'),\n",
       "  ('avg_drawdown', '-17.33'),\n",
       "  ('time_in_drawdown', '0.6059'),\n",
       "  ('calmar', '0.101'),\n",
       "  ('avg_return_to_drawdown', '0.4331'),\n",
       "  ('avg_loss', '-1.105'),\n",
       "  ('avg_gain', '1.14'),\n",
       "  ('gaintolossratio', '1.031'),\n",
       "  ('profitfactor', '1.088'),\n",
       "  ('hitrate', '0.5133'),\n",
       "  ('t_stat', '2.415'),\n",
       "  ('p_value', '0.01574')],\n",
       " ('You can also plot / print:',\n",
       "  ['rolling_ann_std', 'drawdown', 'curve', 'percent'])]"
      ]
     },
     "execution_count": 32,
     "metadata": {},
     "output_type": "execute_result"
    }
   ],
   "source": [
    "from systems.accounts.accounts_stage import Account\n",
    "accounts = Account()\n",
    "my_system = System([fcs, empty_rules, combiner, position_size, raw_data, portfolio, accounts], data, my_config)\n",
    "profits = my_system.accounts.portfolio()\n",
    "profits.percent.stats()"
   ]
  },
  {
   "cell_type": "code",
   "execution_count": null,
   "id": "8ba48c15",
   "metadata": {},
   "outputs": [],
   "source": [
    "from sysdata.config.configdata import Config\n",
    "my_config = Config(dict(trading_rules=dict(ewmac8=ewmac_8, ewmac32=ewmac_32), instrument_weights=dict(US10=.1, EDOLLAR=.4, CORN=.3, SP500_micro=.2), instrument_div_multiplier=1.5, forecast_scalars=dict(ewmac8=5.3, ewmac32=2.65), forecast_weights=dict(ewmac8=0.5, ewmac32=0.5), forecast_div_multiplier=1.1, percentage_vol_target=25, notional_trading_capital=500000, base_currency='GBP'))\n",
    "my_config"
   ]
  },
  {
   "cell_type": "code",
   "execution_count": null,
   "id": "c951c3b1",
   "metadata": {},
   "outputs": [],
   "source": [
    "my_config=Config('systems.provided.example.simplesystemconfig.yaml')"
   ]
  },
  {
   "cell_type": "markdown",
   "id": "7a9abec8",
   "metadata": {},
   "source": [
    "## A simple pre baked system"
   ]
  },
  {
   "cell_type": "code",
   "execution_count": null,
   "id": "9b5567df",
   "metadata": {},
   "outputs": [],
   "source": [
    "#use a pre baked system and then modify it as required\n",
    "from systems.provided.example.simplesystem import simplesystem\n",
    "my_system = simplesystem()\n",
    "my_system"
   ]
  },
  {
   "cell_type": "code",
   "execution_count": null,
   "id": "ed1720db",
   "metadata": {},
   "outputs": [],
   "source": [
    "my_system.portfolio.get_notional_position('EDOLLAR').tail(5)"
   ]
  },
  {
   "cell_type": "code",
   "execution_count": null,
   "id": "8f9d148e",
   "metadata": {},
   "outputs": [],
   "source": [
    "from sysdata.config.configdata import Config\n",
    "from sysdata.sim.csv_futures_sim_data import csvFuturesSimData\n",
    "\n",
    "my_config = Config('systems.provided.example.simplesystemconfig.yaml')\n",
    "my_data = csvFuturesSimData()\n",
    "\n",
    "my_system = simplesystem(config=my_config, data=my_data)"
   ]
  },
  {
   "cell_type": "markdown",
   "id": "eaccc4f9",
   "metadata": {},
   "source": [
    "## A complete pre-baked system"
   ]
  },
  {
   "cell_type": "code",
   "execution_count": null,
   "id": "5d37b5a0",
   "metadata": {},
   "outputs": [],
   "source": [
    "from systems.provided.futures_chapter15.basesystem import futures_system\n",
    "system = futures_system(log_level='on')\n",
    "system.portfolio.get_notional_position('EUROSTX').tail(5)"
   ]
  },
  {
   "cell_type": "code",
   "execution_count": null,
   "id": "db831cd6",
   "metadata": {},
   "outputs": [],
   "source": []
  }
 ],
 "metadata": {
  "kernelspec": {
   "display_name": "pyst",
   "language": "python",
   "name": "pyst"
  },
  "language_info": {
   "codemirror_mode": {
    "name": "ipython",
    "version": 3
   },
   "file_extension": ".py",
   "mimetype": "text/x-python",
   "name": "python",
   "nbconvert_exporter": "python",
   "pygments_lexer": "ipython3",
   "version": "3.8.10"
  }
 },
 "nbformat": 4,
 "nbformat_minor": 5
}
